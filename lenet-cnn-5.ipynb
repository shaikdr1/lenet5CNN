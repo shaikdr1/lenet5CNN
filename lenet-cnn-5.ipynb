{
 "cells": [
  {
   "cell_type": "code",
   "execution_count": 1,
   "id": "f6f50090",
   "metadata": {
    "execution": {
     "iopub.execute_input": "2023-04-06T03:11:52.878453Z",
     "iopub.status.busy": "2023-04-06T03:11:52.877979Z",
     "iopub.status.idle": "2023-04-06T03:11:52.914008Z",
     "shell.execute_reply": "2023-04-06T03:11:52.912855Z",
     "shell.execute_reply.started": "2023-04-06T03:11:52.878404Z"
    },
    "papermill": {
     "duration": 0.021761,
     "end_time": "2023-04-04T13:04:00.888568",
     "exception": false,
     "start_time": "2023-04-04T13:04:00.866807",
     "status": "completed"
    },
    "tags": []
   },
   "outputs": [],
   "source": [
    "import pandas as pd\n",
    "import matplotlib.pyplot as plt\n"
   ]
  },
  {
   "cell_type": "markdown",
   "id": "e71f69e9",
   "metadata": {
    "papermill": {
     "duration": 0.006498,
     "end_time": "2023-04-04T13:04:00.902077",
     "exception": false,
     "start_time": "2023-04-04T13:04:00.895579",
     "status": "completed"
    },
    "tags": []
   },
   "source": [
    "### Data Loading"
   ]
  },
  {
   "cell_type": "code",
   "execution_count": 2,
   "id": "b44a7695",
   "metadata": {
    "execution": {
     "iopub.execute_input": "2023-04-06T03:11:52.923728Z",
     "iopub.status.busy": "2023-04-06T03:11:52.922872Z",
     "iopub.status.idle": "2023-04-06T03:11:59.288243Z",
     "shell.execute_reply": "2023-04-06T03:11:59.286653Z",
     "shell.execute_reply.started": "2023-04-06T03:11:52.923675Z"
    },
    "papermill": {
     "duration": 4.789786,
     "end_time": "2023-04-04T13:04:05.698482",
     "exception": false,
     "start_time": "2023-04-04T13:04:00.908696",
     "status": "completed"
    },
    "tags": []
   },
   "outputs": [],
   "source": [
    "dftrain = pd.read_csv(\"mnist_train.csv\")\n",
    "\n",
    "dftest = pd.read_csv(\"mnist_test.csv\")"
   ]
  },
  {
   "cell_type": "code",
   "execution_count": 3,
   "id": "7ab45299",
   "metadata": {
    "execution": {
     "iopub.execute_input": "2023-04-06T03:11:59.292121Z",
     "iopub.status.busy": "2023-04-06T03:11:59.291300Z",
     "iopub.status.idle": "2023-04-06T03:11:59.327782Z",
     "shell.execute_reply": "2023-04-06T03:11:59.326768Z",
     "shell.execute_reply.started": "2023-04-06T03:11:59.292069Z"
    },
    "papermill": {
     "duration": 0.035596,
     "end_time": "2023-04-04T13:04:05.741100",
     "exception": false,
     "start_time": "2023-04-04T13:04:05.705504",
     "status": "completed"
    },
    "tags": []
   },
   "outputs": [
    {
     "data": {
      "text/html": [
       "<div>\n",
       "<style scoped>\n",
       "    .dataframe tbody tr th:only-of-type {\n",
       "        vertical-align: middle;\n",
       "    }\n",
       "\n",
       "    .dataframe tbody tr th {\n",
       "        vertical-align: top;\n",
       "    }\n",
       "\n",
       "    .dataframe thead th {\n",
       "        text-align: right;\n",
       "    }\n",
       "</style>\n",
       "<table border=\"1\" class=\"dataframe\">\n",
       "  <thead>\n",
       "    <tr style=\"text-align: right;\">\n",
       "      <th></th>\n",
       "      <th>label</th>\n",
       "      <th>1x1</th>\n",
       "      <th>1x2</th>\n",
       "      <th>1x3</th>\n",
       "      <th>1x4</th>\n",
       "      <th>1x5</th>\n",
       "      <th>1x6</th>\n",
       "      <th>1x7</th>\n",
       "      <th>1x8</th>\n",
       "      <th>1x9</th>\n",
       "      <th>...</th>\n",
       "      <th>28x19</th>\n",
       "      <th>28x20</th>\n",
       "      <th>28x21</th>\n",
       "      <th>28x22</th>\n",
       "      <th>28x23</th>\n",
       "      <th>28x24</th>\n",
       "      <th>28x25</th>\n",
       "      <th>28x26</th>\n",
       "      <th>28x27</th>\n",
       "      <th>28x28</th>\n",
       "    </tr>\n",
       "  </thead>\n",
       "  <tbody>\n",
       "    <tr>\n",
       "      <th>0</th>\n",
       "      <td>5</td>\n",
       "      <td>0</td>\n",
       "      <td>0</td>\n",
       "      <td>0</td>\n",
       "      <td>0</td>\n",
       "      <td>0</td>\n",
       "      <td>0</td>\n",
       "      <td>0</td>\n",
       "      <td>0</td>\n",
       "      <td>0</td>\n",
       "      <td>...</td>\n",
       "      <td>0</td>\n",
       "      <td>0</td>\n",
       "      <td>0</td>\n",
       "      <td>0</td>\n",
       "      <td>0</td>\n",
       "      <td>0</td>\n",
       "      <td>0</td>\n",
       "      <td>0</td>\n",
       "      <td>0</td>\n",
       "      <td>0</td>\n",
       "    </tr>\n",
       "    <tr>\n",
       "      <th>1</th>\n",
       "      <td>0</td>\n",
       "      <td>0</td>\n",
       "      <td>0</td>\n",
       "      <td>0</td>\n",
       "      <td>0</td>\n",
       "      <td>0</td>\n",
       "      <td>0</td>\n",
       "      <td>0</td>\n",
       "      <td>0</td>\n",
       "      <td>0</td>\n",
       "      <td>...</td>\n",
       "      <td>0</td>\n",
       "      <td>0</td>\n",
       "      <td>0</td>\n",
       "      <td>0</td>\n",
       "      <td>0</td>\n",
       "      <td>0</td>\n",
       "      <td>0</td>\n",
       "      <td>0</td>\n",
       "      <td>0</td>\n",
       "      <td>0</td>\n",
       "    </tr>\n",
       "    <tr>\n",
       "      <th>2</th>\n",
       "      <td>4</td>\n",
       "      <td>0</td>\n",
       "      <td>0</td>\n",
       "      <td>0</td>\n",
       "      <td>0</td>\n",
       "      <td>0</td>\n",
       "      <td>0</td>\n",
       "      <td>0</td>\n",
       "      <td>0</td>\n",
       "      <td>0</td>\n",
       "      <td>...</td>\n",
       "      <td>0</td>\n",
       "      <td>0</td>\n",
       "      <td>0</td>\n",
       "      <td>0</td>\n",
       "      <td>0</td>\n",
       "      <td>0</td>\n",
       "      <td>0</td>\n",
       "      <td>0</td>\n",
       "      <td>0</td>\n",
       "      <td>0</td>\n",
       "    </tr>\n",
       "    <tr>\n",
       "      <th>3</th>\n",
       "      <td>1</td>\n",
       "      <td>0</td>\n",
       "      <td>0</td>\n",
       "      <td>0</td>\n",
       "      <td>0</td>\n",
       "      <td>0</td>\n",
       "      <td>0</td>\n",
       "      <td>0</td>\n",
       "      <td>0</td>\n",
       "      <td>0</td>\n",
       "      <td>...</td>\n",
       "      <td>0</td>\n",
       "      <td>0</td>\n",
       "      <td>0</td>\n",
       "      <td>0</td>\n",
       "      <td>0</td>\n",
       "      <td>0</td>\n",
       "      <td>0</td>\n",
       "      <td>0</td>\n",
       "      <td>0</td>\n",
       "      <td>0</td>\n",
       "    </tr>\n",
       "    <tr>\n",
       "      <th>4</th>\n",
       "      <td>9</td>\n",
       "      <td>0</td>\n",
       "      <td>0</td>\n",
       "      <td>0</td>\n",
       "      <td>0</td>\n",
       "      <td>0</td>\n",
       "      <td>0</td>\n",
       "      <td>0</td>\n",
       "      <td>0</td>\n",
       "      <td>0</td>\n",
       "      <td>...</td>\n",
       "      <td>0</td>\n",
       "      <td>0</td>\n",
       "      <td>0</td>\n",
       "      <td>0</td>\n",
       "      <td>0</td>\n",
       "      <td>0</td>\n",
       "      <td>0</td>\n",
       "      <td>0</td>\n",
       "      <td>0</td>\n",
       "      <td>0</td>\n",
       "    </tr>\n",
       "  </tbody>\n",
       "</table>\n",
       "<p>5 rows × 785 columns</p>\n",
       "</div>"
      ],
      "text/plain": [
       "   label  1x1  1x2  1x3  1x4  1x5  1x6  1x7  1x8  1x9  ...  28x19  28x20  \\\n",
       "0      5    0    0    0    0    0    0    0    0    0  ...      0      0   \n",
       "1      0    0    0    0    0    0    0    0    0    0  ...      0      0   \n",
       "2      4    0    0    0    0    0    0    0    0    0  ...      0      0   \n",
       "3      1    0    0    0    0    0    0    0    0    0  ...      0      0   \n",
       "4      9    0    0    0    0    0    0    0    0    0  ...      0      0   \n",
       "\n",
       "   28x21  28x22  28x23  28x24  28x25  28x26  28x27  28x28  \n",
       "0      0      0      0      0      0      0      0      0  \n",
       "1      0      0      0      0      0      0      0      0  \n",
       "2      0      0      0      0      0      0      0      0  \n",
       "3      0      0      0      0      0      0      0      0  \n",
       "4      0      0      0      0      0      0      0      0  \n",
       "\n",
       "[5 rows x 785 columns]"
      ]
     },
     "execution_count": 3,
     "metadata": {},
     "output_type": "execute_result"
    }
   ],
   "source": [
    "dftrain.head()"
   ]
  },
  {
   "cell_type": "code",
   "execution_count": 4,
   "id": "532ff134",
   "metadata": {
    "execution": {
     "iopub.execute_input": "2023-04-06T03:11:59.329618Z",
     "iopub.status.busy": "2023-04-06T03:11:59.329333Z",
     "iopub.status.idle": "2023-04-06T03:11:59.336194Z",
     "shell.execute_reply": "2023-04-06T03:11:59.335441Z",
     "shell.execute_reply.started": "2023-04-06T03:11:59.329590Z"
    },
    "papermill": {
     "duration": 0.017304,
     "end_time": "2023-04-04T13:04:05.765755",
     "exception": false,
     "start_time": "2023-04-04T13:04:05.748451",
     "status": "completed"
    },
    "tags": []
   },
   "outputs": [
    {
     "data": {
      "text/plain": [
       "(60000, 785)"
      ]
     },
     "execution_count": 4,
     "metadata": {},
     "output_type": "execute_result"
    }
   ],
   "source": [
    "dftrain.shape"
   ]
  },
  {
   "cell_type": "code",
   "execution_count": 5,
   "id": "de11c811",
   "metadata": {
    "execution": {
     "iopub.execute_input": "2023-04-06T03:11:59.337870Z",
     "iopub.status.busy": "2023-04-06T03:11:59.337372Z",
     "iopub.status.idle": "2023-04-06T03:11:59.362277Z",
     "shell.execute_reply": "2023-04-06T03:11:59.361137Z",
     "shell.execute_reply.started": "2023-04-06T03:11:59.337839Z"
    },
    "papermill": {
     "duration": 0.025877,
     "end_time": "2023-04-04T13:04:05.798946",
     "exception": false,
     "start_time": "2023-04-04T13:04:05.773069",
     "status": "completed"
    },
    "tags": []
   },
   "outputs": [
    {
     "data": {
      "text/html": [
       "<div>\n",
       "<style scoped>\n",
       "    .dataframe tbody tr th:only-of-type {\n",
       "        vertical-align: middle;\n",
       "    }\n",
       "\n",
       "    .dataframe tbody tr th {\n",
       "        vertical-align: top;\n",
       "    }\n",
       "\n",
       "    .dataframe thead th {\n",
       "        text-align: right;\n",
       "    }\n",
       "</style>\n",
       "<table border=\"1\" class=\"dataframe\">\n",
       "  <thead>\n",
       "    <tr style=\"text-align: right;\">\n",
       "      <th></th>\n",
       "      <th>label</th>\n",
       "      <th>1x1</th>\n",
       "      <th>1x2</th>\n",
       "      <th>1x3</th>\n",
       "      <th>1x4</th>\n",
       "      <th>1x5</th>\n",
       "      <th>1x6</th>\n",
       "      <th>1x7</th>\n",
       "      <th>1x8</th>\n",
       "      <th>1x9</th>\n",
       "      <th>...</th>\n",
       "      <th>28x19</th>\n",
       "      <th>28x20</th>\n",
       "      <th>28x21</th>\n",
       "      <th>28x22</th>\n",
       "      <th>28x23</th>\n",
       "      <th>28x24</th>\n",
       "      <th>28x25</th>\n",
       "      <th>28x26</th>\n",
       "      <th>28x27</th>\n",
       "      <th>28x28</th>\n",
       "    </tr>\n",
       "  </thead>\n",
       "  <tbody>\n",
       "    <tr>\n",
       "      <th>0</th>\n",
       "      <td>7</td>\n",
       "      <td>0</td>\n",
       "      <td>0</td>\n",
       "      <td>0</td>\n",
       "      <td>0</td>\n",
       "      <td>0</td>\n",
       "      <td>0</td>\n",
       "      <td>0</td>\n",
       "      <td>0</td>\n",
       "      <td>0</td>\n",
       "      <td>...</td>\n",
       "      <td>0</td>\n",
       "      <td>0</td>\n",
       "      <td>0</td>\n",
       "      <td>0</td>\n",
       "      <td>0</td>\n",
       "      <td>0</td>\n",
       "      <td>0</td>\n",
       "      <td>0</td>\n",
       "      <td>0</td>\n",
       "      <td>0</td>\n",
       "    </tr>\n",
       "    <tr>\n",
       "      <th>1</th>\n",
       "      <td>2</td>\n",
       "      <td>0</td>\n",
       "      <td>0</td>\n",
       "      <td>0</td>\n",
       "      <td>0</td>\n",
       "      <td>0</td>\n",
       "      <td>0</td>\n",
       "      <td>0</td>\n",
       "      <td>0</td>\n",
       "      <td>0</td>\n",
       "      <td>...</td>\n",
       "      <td>0</td>\n",
       "      <td>0</td>\n",
       "      <td>0</td>\n",
       "      <td>0</td>\n",
       "      <td>0</td>\n",
       "      <td>0</td>\n",
       "      <td>0</td>\n",
       "      <td>0</td>\n",
       "      <td>0</td>\n",
       "      <td>0</td>\n",
       "    </tr>\n",
       "    <tr>\n",
       "      <th>2</th>\n",
       "      <td>1</td>\n",
       "      <td>0</td>\n",
       "      <td>0</td>\n",
       "      <td>0</td>\n",
       "      <td>0</td>\n",
       "      <td>0</td>\n",
       "      <td>0</td>\n",
       "      <td>0</td>\n",
       "      <td>0</td>\n",
       "      <td>0</td>\n",
       "      <td>...</td>\n",
       "      <td>0</td>\n",
       "      <td>0</td>\n",
       "      <td>0</td>\n",
       "      <td>0</td>\n",
       "      <td>0</td>\n",
       "      <td>0</td>\n",
       "      <td>0</td>\n",
       "      <td>0</td>\n",
       "      <td>0</td>\n",
       "      <td>0</td>\n",
       "    </tr>\n",
       "    <tr>\n",
       "      <th>3</th>\n",
       "      <td>0</td>\n",
       "      <td>0</td>\n",
       "      <td>0</td>\n",
       "      <td>0</td>\n",
       "      <td>0</td>\n",
       "      <td>0</td>\n",
       "      <td>0</td>\n",
       "      <td>0</td>\n",
       "      <td>0</td>\n",
       "      <td>0</td>\n",
       "      <td>...</td>\n",
       "      <td>0</td>\n",
       "      <td>0</td>\n",
       "      <td>0</td>\n",
       "      <td>0</td>\n",
       "      <td>0</td>\n",
       "      <td>0</td>\n",
       "      <td>0</td>\n",
       "      <td>0</td>\n",
       "      <td>0</td>\n",
       "      <td>0</td>\n",
       "    </tr>\n",
       "    <tr>\n",
       "      <th>4</th>\n",
       "      <td>4</td>\n",
       "      <td>0</td>\n",
       "      <td>0</td>\n",
       "      <td>0</td>\n",
       "      <td>0</td>\n",
       "      <td>0</td>\n",
       "      <td>0</td>\n",
       "      <td>0</td>\n",
       "      <td>0</td>\n",
       "      <td>0</td>\n",
       "      <td>...</td>\n",
       "      <td>0</td>\n",
       "      <td>0</td>\n",
       "      <td>0</td>\n",
       "      <td>0</td>\n",
       "      <td>0</td>\n",
       "      <td>0</td>\n",
       "      <td>0</td>\n",
       "      <td>0</td>\n",
       "      <td>0</td>\n",
       "      <td>0</td>\n",
       "    </tr>\n",
       "  </tbody>\n",
       "</table>\n",
       "<p>5 rows × 785 columns</p>\n",
       "</div>"
      ],
      "text/plain": [
       "   label  1x1  1x2  1x3  1x4  1x5  1x6  1x7  1x8  1x9  ...  28x19  28x20  \\\n",
       "0      7    0    0    0    0    0    0    0    0    0  ...      0      0   \n",
       "1      2    0    0    0    0    0    0    0    0    0  ...      0      0   \n",
       "2      1    0    0    0    0    0    0    0    0    0  ...      0      0   \n",
       "3      0    0    0    0    0    0    0    0    0    0  ...      0      0   \n",
       "4      4    0    0    0    0    0    0    0    0    0  ...      0      0   \n",
       "\n",
       "   28x21  28x22  28x23  28x24  28x25  28x26  28x27  28x28  \n",
       "0      0      0      0      0      0      0      0      0  \n",
       "1      0      0      0      0      0      0      0      0  \n",
       "2      0      0      0      0      0      0      0      0  \n",
       "3      0      0      0      0      0      0      0      0  \n",
       "4      0      0      0      0      0      0      0      0  \n",
       "\n",
       "[5 rows x 785 columns]"
      ]
     },
     "execution_count": 5,
     "metadata": {},
     "output_type": "execute_result"
    }
   ],
   "source": [
    "dftest.head()"
   ]
  },
  {
   "cell_type": "code",
   "execution_count": 6,
   "id": "681585b6",
   "metadata": {
    "execution": {
     "iopub.execute_input": "2023-04-06T03:11:59.364078Z",
     "iopub.status.busy": "2023-04-06T03:11:59.363702Z",
     "iopub.status.idle": "2023-04-06T03:11:59.374899Z",
     "shell.execute_reply": "2023-04-06T03:11:59.374117Z",
     "shell.execute_reply.started": "2023-04-06T03:11:59.363981Z"
    },
    "papermill": {
     "duration": 0.015809,
     "end_time": "2023-04-04T13:04:05.822236",
     "exception": false,
     "start_time": "2023-04-04T13:04:05.806427",
     "status": "completed"
    },
    "tags": []
   },
   "outputs": [
    {
     "data": {
      "text/plain": [
       "(10000, 785)"
      ]
     },
     "execution_count": 6,
     "metadata": {},
     "output_type": "execute_result"
    }
   ],
   "source": [
    "dftest.shape"
   ]
  },
  {
   "cell_type": "markdown",
   "id": "1543eb5e",
   "metadata": {
    "papermill": {
     "duration": 0.006898,
     "end_time": "2023-04-04T13:04:05.837120",
     "exception": false,
     "start_time": "2023-04-04T13:04:05.830222",
     "status": "completed"
    },
    "tags": []
   },
   "source": [
    "### Checking Any Null Values or Duplicate Values"
   ]
  },
  {
   "cell_type": "code",
   "execution_count": 7,
   "id": "fc920eb3",
   "metadata": {
    "execution": {
     "iopub.execute_input": "2023-04-06T03:11:59.376540Z",
     "iopub.status.busy": "2023-04-06T03:11:59.376055Z",
     "iopub.status.idle": "2023-04-06T03:11:59.450586Z",
     "shell.execute_reply": "2023-04-06T03:11:59.449402Z",
     "shell.execute_reply.started": "2023-04-06T03:11:59.376508Z"
    },
    "papermill": {
     "duration": 0.069833,
     "end_time": "2023-04-04T13:04:05.914213",
     "exception": false,
     "start_time": "2023-04-04T13:04:05.844380",
     "status": "completed"
    },
    "tags": []
   },
   "outputs": [
    {
     "data": {
      "text/plain": [
       "0"
      ]
     },
     "execution_count": 7,
     "metadata": {},
     "output_type": "execute_result"
    }
   ],
   "source": [
    "dftrain.isnull().sum().sum()"
   ]
  },
  {
   "cell_type": "code",
   "execution_count": 8,
   "id": "56b2bba1",
   "metadata": {
    "execution": {
     "iopub.execute_input": "2023-04-06T03:11:59.452318Z",
     "iopub.status.busy": "2023-04-06T03:11:59.451998Z",
     "iopub.status.idle": "2023-04-06T03:11:59.471085Z",
     "shell.execute_reply": "2023-04-06T03:11:59.470085Z",
     "shell.execute_reply.started": "2023-04-06T03:11:59.452274Z"
    },
    "papermill": {
     "duration": 0.030016,
     "end_time": "2023-04-04T13:04:05.951920",
     "exception": false,
     "start_time": "2023-04-04T13:04:05.921904",
     "status": "completed"
    },
    "tags": []
   },
   "outputs": [
    {
     "data": {
      "text/plain": [
       "0"
      ]
     },
     "execution_count": 8,
     "metadata": {},
     "output_type": "execute_result"
    }
   ],
   "source": [
    "dftest.isnull().sum().sum()"
   ]
  },
  {
   "cell_type": "code",
   "execution_count": 9,
   "id": "b834a01e",
   "metadata": {
    "execution": {
     "iopub.execute_input": "2023-04-06T03:11:59.475229Z",
     "iopub.status.busy": "2023-04-06T03:11:59.474889Z",
     "iopub.status.idle": "2023-04-06T03:12:00.415749Z",
     "shell.execute_reply": "2023-04-06T03:12:00.414440Z",
     "shell.execute_reply.started": "2023-04-06T03:11:59.475197Z"
    },
    "papermill": {
     "duration": 0.884748,
     "end_time": "2023-04-04T13:04:06.844106",
     "exception": false,
     "start_time": "2023-04-04T13:04:05.959358",
     "status": "completed"
    },
    "tags": []
   },
   "outputs": [
    {
     "name": "stdout",
     "output_type": "stream",
     "text": [
      "Number of duplicate Samples :  0\n"
     ]
    }
   ],
   "source": [
    "duplicate_rows = dftrain[dftrain.duplicated()]\n",
    "print('Number of duplicate Samples : ',len(duplicate_rows))\n"
   ]
  },
  {
   "cell_type": "code",
   "execution_count": 10,
   "id": "149679a8",
   "metadata": {
    "execution": {
     "iopub.execute_input": "2023-04-06T03:12:00.418538Z",
     "iopub.status.busy": "2023-04-06T03:12:00.417692Z",
     "iopub.status.idle": "2023-04-06T03:12:00.752089Z",
     "shell.execute_reply": "2023-04-06T03:12:00.751064Z",
     "shell.execute_reply.started": "2023-04-06T03:12:00.418489Z"
    },
    "papermill": {
     "duration": 0.202424,
     "end_time": "2023-04-04T13:04:07.054428",
     "exception": false,
     "start_time": "2023-04-04T13:04:06.852004",
     "status": "completed"
    },
    "tags": []
   },
   "outputs": [
    {
     "name": "stdout",
     "output_type": "stream",
     "text": [
      "Number of duplicate Samples :  0\n"
     ]
    }
   ],
   "source": [
    "duplicate_rows = dftest[dftest.duplicated()]\n",
    "print('Number of duplicate Samples : ',len(duplicate_rows))\n"
   ]
  },
  {
   "cell_type": "markdown",
   "id": "8de5631f",
   "metadata": {
    "papermill": {
     "duration": 0.007298,
     "end_time": "2023-04-04T13:04:07.069485",
     "exception": false,
     "start_time": "2023-04-04T13:04:07.062187",
     "status": "completed"
    },
    "tags": []
   },
   "source": [
    "### Checking Data Balance"
   ]
  },
  {
   "cell_type": "code",
   "execution_count": 11,
   "id": "3c3df84b",
   "metadata": {
    "execution": {
     "iopub.execute_input": "2023-04-06T03:12:00.753831Z",
     "iopub.status.busy": "2023-04-06T03:12:00.753266Z",
     "iopub.status.idle": "2023-04-06T03:12:00.764528Z",
     "shell.execute_reply": "2023-04-06T03:12:00.763259Z",
     "shell.execute_reply.started": "2023-04-06T03:12:00.753794Z"
    },
    "papermill": {
     "duration": 0.020051,
     "end_time": "2023-04-04T13:04:07.096953",
     "exception": false,
     "start_time": "2023-04-04T13:04:07.076902",
     "status": "completed"
    },
    "tags": []
   },
   "outputs": [
    {
     "data": {
      "text/plain": [
       "1    6742\n",
       "7    6265\n",
       "3    6131\n",
       "2    5958\n",
       "9    5949\n",
       "0    5923\n",
       "6    5918\n",
       "8    5851\n",
       "4    5842\n",
       "5    5421\n",
       "Name: label, dtype: int64"
      ]
     },
     "execution_count": 11,
     "metadata": {},
     "output_type": "execute_result"
    }
   ],
   "source": [
    "dftrain[\"label\"].value_counts()"
   ]
  },
  {
   "cell_type": "markdown",
   "id": "c5b8ca6d",
   "metadata": {
    "papermill": {
     "duration": 0.007439,
     "end_time": "2023-04-04T13:04:07.112006",
     "exception": false,
     "start_time": "2023-04-04T13:04:07.104567",
     "status": "completed"
    },
    "tags": []
   },
   "source": [
    "### Preparing Train and Test Data"
   ]
  },
  {
   "cell_type": "code",
   "execution_count": 12,
   "id": "6ee6dfe1",
   "metadata": {
    "execution": {
     "iopub.execute_input": "2023-04-06T03:12:00.766900Z",
     "iopub.status.busy": "2023-04-06T03:12:00.766268Z",
     "iopub.status.idle": "2023-04-06T03:12:01.048141Z",
     "shell.execute_reply": "2023-04-06T03:12:01.047046Z",
     "shell.execute_reply.started": "2023-04-06T03:12:00.766855Z"
    },
    "papermill": {
     "duration": 0.20228,
     "end_time": "2023-04-04T13:04:07.321868",
     "exception": false,
     "start_time": "2023-04-04T13:04:07.119588",
     "status": "completed"
    },
    "tags": []
   },
   "outputs": [
    {
     "name": "stderr",
     "output_type": "stream",
     "text": [
      "C:\\Users\\DAVOOD-PC\\AppData\\Local\\Temp\\ipykernel_16768\\624549588.py:1: FutureWarning: In a future version of pandas all arguments of DataFrame.drop except for the argument 'labels' will be keyword-only.\n",
      "  X_train = (dftrain.drop(['label'], 1).values).astype('float32')\n"
     ]
    }
   ],
   "source": [
    "X_train = (dftrain.drop(['label'], 1).values).astype('float32')\n",
    "y_train = (dftrain['label'].values).astype('int32')\n"
   ]
  },
  {
   "cell_type": "code",
   "execution_count": 13,
   "id": "49f34f21",
   "metadata": {
    "execution": {
     "iopub.execute_input": "2023-04-06T03:12:01.050072Z",
     "iopub.status.busy": "2023-04-06T03:12:01.049601Z",
     "iopub.status.idle": "2023-04-06T03:12:01.093436Z",
     "shell.execute_reply": "2023-04-06T03:12:01.092248Z",
     "shell.execute_reply.started": "2023-04-06T03:12:01.050027Z"
    },
    "papermill": {
     "duration": 0.039434,
     "end_time": "2023-04-04T13:04:07.369208",
     "exception": false,
     "start_time": "2023-04-04T13:04:07.329774",
     "status": "completed"
    },
    "tags": []
   },
   "outputs": [
    {
     "name": "stderr",
     "output_type": "stream",
     "text": [
      "C:\\Users\\DAVOOD-PC\\AppData\\Local\\Temp\\ipykernel_16768\\1288014707.py:1: FutureWarning: In a future version of pandas all arguments of DataFrame.drop except for the argument 'labels' will be keyword-only.\n",
      "  X_test = (dftest.drop(['label'], 1).values).astype('float32')\n"
     ]
    }
   ],
   "source": [
    "X_test = (dftest.drop(['label'], 1).values).astype('float32')\n",
    "y_test = (dftest['label'].values).astype('int32')"
   ]
  },
  {
   "cell_type": "code",
   "execution_count": 14,
   "id": "02988769",
   "metadata": {
    "execution": {
     "iopub.execute_input": "2023-04-06T03:12:01.095371Z",
     "iopub.status.busy": "2023-04-06T03:12:01.094932Z",
     "iopub.status.idle": "2023-04-06T03:12:09.788181Z",
     "shell.execute_reply": "2023-04-06T03:12:09.787100Z",
     "shell.execute_reply.started": "2023-04-06T03:12:01.095324Z"
    },
    "papermill": {
     "duration": 6.894026,
     "end_time": "2023-04-04T13:04:14.271122",
     "exception": false,
     "start_time": "2023-04-04T13:04:07.377096",
     "status": "completed"
    },
    "tags": []
   },
   "outputs": [],
   "source": [
    "import tensorflow as tf"
   ]
  },
  {
   "cell_type": "code",
   "execution_count": 15,
   "id": "2bcf011b",
   "metadata": {
    "execution": {
     "iopub.execute_input": "2023-04-06T03:12:09.790711Z",
     "iopub.status.busy": "2023-04-06T03:12:09.789540Z",
     "iopub.status.idle": "2023-04-06T03:12:09.909843Z",
     "shell.execute_reply": "2023-04-06T03:12:09.908626Z",
     "shell.execute_reply.started": "2023-04-06T03:12:09.790673Z"
    },
    "papermill": {
     "duration": 0.09558,
     "end_time": "2023-04-04T13:04:14.374977",
     "exception": false,
     "start_time": "2023-04-04T13:04:14.279397",
     "status": "completed"
    },
    "tags": []
   },
   "outputs": [],
   "source": [
    "X_train = X_train/255.0\n",
    "X_test = X_test/255.0\n",
    "\n",
    "X_train = X_train.reshape(-1, 28, 28, 1)\n",
    "X_test = X_test.reshape(-1, 28, 28, 1)\n",
    "\n",
    "y_train = tf.keras.utils.to_categorical(y_train, num_classes = 10)\n",
    "y_test = tf.keras.utils.to_categorical(y_test, num_classes = 10)"
   ]
  },
  {
   "cell_type": "markdown",
   "id": "f158a69d",
   "metadata": {
    "papermill": {
     "duration": 0.007948,
     "end_time": "2023-04-04T13:04:14.391123",
     "exception": false,
     "start_time": "2023-04-04T13:04:14.383175",
     "status": "completed"
    },
    "tags": []
   },
   "source": [
    "### PLOTTING DATA"
   ]
  },
  {
   "cell_type": "code",
   "execution_count": 16,
   "id": "935157c9",
   "metadata": {
    "execution": {
     "iopub.execute_input": "2023-04-06T03:12:09.911497Z",
     "iopub.status.busy": "2023-04-06T03:12:09.911154Z",
     "iopub.status.idle": "2023-04-06T03:12:11.591423Z",
     "shell.execute_reply": "2023-04-06T03:12:11.590573Z",
     "shell.execute_reply.started": "2023-04-06T03:12:09.911464Z"
    },
    "papermill": {
     "duration": 1.510272,
     "end_time": "2023-04-04T13:04:15.909231",
     "exception": false,
     "start_time": "2023-04-04T13:04:14.398959",
     "status": "completed"
    },
    "tags": []
   },
   "outputs": [
    {
     "data": {
      "image/png": "[encoded data removed]",
      "text/plain": [
       "<Figure size 800x800 with 16 Axes>"
      ]
     },
     "metadata": {},
     "output_type": "display_data"
    }
   ],
   "source": [
    "plt.figure(figsize=(8,8))\n",
    "for i in range(16): \n",
    "    plt.subplot(4,4,i+1)\n",
    "    plt.imshow(X_train[i])"
   ]
  },
  {
   "cell_type": "markdown",
   "id": "0c934f7e",
   "metadata": {
    "papermill": {
     "duration": 0.008316,
     "end_time": "2023-04-04T13:04:15.926287",
     "exception": false,
     "start_time": "2023-04-04T13:04:15.917971",
     "status": "completed"
    },
    "tags": []
   },
   "source": [
    "### Model Building"
   ]
  },
  {
   "cell_type": "code",
   "execution_count": 17,
   "id": "2be14de3",
   "metadata": {
    "execution": {
     "iopub.execute_input": "2023-04-06T03:29:05.261660Z",
     "iopub.status.busy": "2023-04-06T03:29:05.261234Z",
     "iopub.status.idle": "2023-04-06T03:29:05.268350Z",
     "shell.execute_reply": "2023-04-06T03:29:05.266884Z",
     "shell.execute_reply.started": "2023-04-06T03:29:05.261609Z"
    },
    "papermill": {
     "duration": 0.019849,
     "end_time": "2023-04-04T13:04:15.954501",
     "exception": false,
     "start_time": "2023-04-04T13:04:15.934652",
     "status": "completed"
    },
    "tags": []
   },
   "outputs": [],
   "source": [
    "from tensorflow.keras.layers import Conv2D ,AveragePooling2D ,Flatten ,Dense,Input\n",
    "from tensorflow.keras.models import Sequential\n",
    "from tensorflow.keras.models import Model"
   ]
  },
  {
   "cell_type": "code",
   "execution_count": 18,
   "id": "93123486",
   "metadata": {
    "execution": {
     "iopub.execute_input": "2023-04-06T03:29:07.500499Z",
     "iopub.status.busy": "2023-04-06T03:29:07.500126Z",
     "iopub.status.idle": "2023-04-06T03:29:07.575987Z",
     "shell.execute_reply": "2023-04-06T03:29:07.574705Z",
     "shell.execute_reply.started": "2023-04-06T03:29:07.500465Z"
    }
   },
   "outputs": [],
   "source": [
    "input_layer = Input(shape=(28,28,1))\n",
    "model_layer = Conv2D(6, kernel_size=5, strides=1,  activation='tanh', input_shape=(28,28,1), padding='same')(input_layer) \n",
    "model_layer = AveragePooling2D()(model_layer)\n",
    "model_layer = Conv2D(16, kernel_size=5, strides=1, activation='tanh', padding='valid')(model_layer)\n",
    "model_layer = AveragePooling2D()(model_layer)\n",
    "model_layer = Conv2D(120, kernel_size=5, strides=1, activation='tanh', padding='valid')(model_layer)\n",
    "model_layer = Flatten()(model_layer)\n",
    "model_layer = Dense(84, activation='tanh')(model_layer)\n",
    "output = Dense(10, activation='softmax')(model_layer)\n",
    "\n",
    "model = Model(input_layer,output)"
   ]
  },
  {
   "cell_type": "code",
   "execution_count": 19,
   "id": "43342ede",
   "metadata": {
    "execution": {
     "iopub.execute_input": "2023-04-06T03:29:08.690314Z",
     "iopub.status.busy": "2023-04-06T03:29:08.689916Z",
     "iopub.status.idle": "2023-04-06T03:29:08.724099Z",
     "shell.execute_reply": "2023-04-06T03:29:08.722811Z",
     "shell.execute_reply.started": "2023-04-06T03:29:08.690276Z"
    },
    "papermill": {
     "duration": 0.056385,
     "end_time": "2023-04-04T13:04:18.693045",
     "exception": false,
     "start_time": "2023-04-04T13:04:18.636660",
     "status": "completed"
    },
    "tags": []
   },
   "outputs": [
    {
     "name": "stdout",
     "output_type": "stream",
     "text": [
      "Model: \"model\"\n",
      "_________________________________________________________________\n",
      " Layer (type)                Output Shape              Param #   \n",
      "=================================================================\n",
      " input_1 (InputLayer)        [(None, 28, 28, 1)]       0         \n",
      "                                                                 \n",
      " conv2d (Conv2D)             (None, 28, 28, 6)         156       \n",
      "                                                                 \n",
      " average_pooling2d (AverageP  (None, 14, 14, 6)        0         \n",
      " ooling2D)                                                       \n",
      "                                                                 \n",
      " conv2d_1 (Conv2D)           (None, 10, 10, 16)        2416      \n",
      "                                                                 \n",
      " average_pooling2d_1 (Averag  (None, 5, 5, 16)         0         \n",
      " ePooling2D)                                                     \n",
      "                                                                 \n",
      " conv2d_2 (Conv2D)           (None, 1, 1, 120)         48120     \n",
      "                                                                 \n",
      " flatten (Flatten)           (None, 120)               0         \n",
      "                                                                 \n",
      " dense (Dense)               (None, 84)                10164     \n",
      "                                                                 \n",
      " dense_1 (Dense)             (None, 10)                850       \n",
      "                                                                 \n",
      "=================================================================\n",
      "Total params: 61,706\n",
      "Trainable params: 61,706\n",
      "Non-trainable params: 0\n",
      "_________________________________________________________________\n"
     ]
    }
   ],
   "source": [
    "model.summary()"
   ]
  },
  {
   "cell_type": "markdown",
   "id": "cc256c3e",
   "metadata": {
    "papermill": {
     "duration": 0.009343,
     "end_time": "2023-04-04T13:04:18.713424",
     "exception": false,
     "start_time": "2023-04-04T13:04:18.704081",
     "status": "completed"
    },
    "tags": []
   },
   "source": [
    "### Early Stopping Call Back"
   ]
  },
  {
   "cell_type": "code",
   "execution_count": 20,
   "id": "cd419fee",
   "metadata": {
    "execution": {
     "iopub.execute_input": "2023-04-06T03:12:11.880780Z",
     "iopub.status.busy": "2023-04-06T03:12:11.880322Z",
     "iopub.status.idle": "2023-04-06T03:12:11.888175Z",
     "shell.execute_reply": "2023-04-06T03:12:11.886676Z",
     "shell.execute_reply.started": "2023-04-06T03:12:11.880734Z"
    },
    "papermill": {
     "duration": 0.016489,
     "end_time": "2023-04-04T13:04:18.739380",
     "exception": false,
     "start_time": "2023-04-04T13:04:18.722891",
     "status": "completed"
    },
    "tags": []
   },
   "outputs": [],
   "source": [
    "early_stopping  = tf.keras.callbacks.EarlyStopping(\n",
    "    monitor='val_loss' ,patience = 5\n",
    ")"
   ]
  },
  {
   "cell_type": "code",
   "execution_count": 21,
   "id": "12d0365f",
   "metadata": {
    "execution": {
     "iopub.execute_input": "2023-04-06T03:12:11.890030Z",
     "iopub.status.busy": "2023-04-06T03:12:11.889565Z",
     "iopub.status.idle": "2023-04-06T03:16:14.460110Z",
     "shell.execute_reply": "2023-04-06T03:16:14.458688Z",
     "shell.execute_reply.started": "2023-04-06T03:12:11.889985Z"
    },
    "papermill": {
     "duration": 80.875711,
     "end_time": "2023-04-04T13:05:39.624803",
     "exception": false,
     "start_time": "2023-04-04T13:04:18.749092",
     "status": "completed"
    },
    "tags": []
   },
   "outputs": [
    {
     "name": "stdout",
     "output_type": "stream",
     "text": [
      "Epoch 1/50\n",
      "938/938 [==============================] - 30s 29ms/step - loss: 0.2724 - accuracy: 0.9209 - precision: 0.9475 - recall: 0.8931 - val_loss: 0.1185 - val_accuracy: 0.9646 - val_precision: 0.9711 - val_recall: 0.9583\n",
      "Epoch 2/50\n",
      "938/938 [==============================] - 25s 26ms/step - loss: 0.0970 - accuracy: 0.9704 - precision: 0.9754 - recall: 0.9661 - val_loss: 0.0818 - val_accuracy: 0.9759 - val_precision: 0.9799 - val_recall: 0.9725\n",
      "Epoch 3/50\n",
      "938/938 [==============================] - 25s 27ms/step - loss: 0.0653 - accuracy: 0.9804 - precision: 0.9831 - recall: 0.9779 - val_loss: 0.0583 - val_accuracy: 0.9807 - val_precision: 0.9832 - val_recall: 0.9786\n",
      "Epoch 4/50\n",
      "938/938 [==============================] - 25s 26ms/step - loss: 0.0499 - accuracy: 0.9843 - precision: 0.9865 - recall: 0.9827 - val_loss: 0.0569 - val_accuracy: 0.9825 - val_precision: 0.9840 - val_recall: 0.9809\n",
      "Epoch 5/50\n",
      "938/938 [==============================] - 25s 26ms/step - loss: 0.0376 - accuracy: 0.9882 - precision: 0.9898 - recall: 0.9872 - val_loss: 0.0590 - val_accuracy: 0.9817 - val_precision: 0.9835 - val_recall: 0.9803\n",
      "Epoch 6/50\n",
      "938/938 [==============================] - 24s 25ms/step - loss: 0.0306 - accuracy: 0.9904 - precision: 0.9913 - recall: 0.9895 - val_loss: 0.0530 - val_accuracy: 0.9832 - val_precision: 0.9846 - val_recall: 0.9818\n",
      "Epoch 7/50\n",
      "938/938 [==============================] - 24s 26ms/step - loss: 0.0245 - accuracy: 0.9922 - precision: 0.9929 - recall: 0.9916 - val_loss: 0.0508 - val_accuracy: 0.9833 - val_precision: 0.9851 - val_recall: 0.9823\n",
      "Epoch 8/50\n",
      "938/938 [==============================] - 25s 27ms/step - loss: 0.0200 - accuracy: 0.9940 - precision: 0.9945 - recall: 0.9935 - val_loss: 0.0498 - val_accuracy: 0.9854 - val_precision: 0.9863 - val_recall: 0.9842\n",
      "Epoch 9/50\n",
      "938/938 [==============================] - 25s 27ms/step - loss: 0.0168 - accuracy: 0.9947 - precision: 0.9953 - recall: 0.9943 - val_loss: 0.0529 - val_accuracy: 0.9851 - val_precision: 0.9862 - val_recall: 0.9846\n",
      "Epoch 10/50\n",
      "938/938 [==============================] - 25s 27ms/step - loss: 0.0155 - accuracy: 0.9947 - precision: 0.9951 - recall: 0.9942 - val_loss: 0.0571 - val_accuracy: 0.9830 - val_precision: 0.9839 - val_recall: 0.9821\n",
      "Epoch 11/50\n",
      "938/938 [==============================] - 24s 25ms/step - loss: 0.0112 - accuracy: 0.9967 - precision: 0.9970 - recall: 0.9964 - val_loss: 0.0512 - val_accuracy: 0.9844 - val_precision: 0.9847 - val_recall: 0.9838\n",
      "Epoch 12/50\n",
      "938/938 [==============================] - 25s 27ms/step - loss: 0.0121 - accuracy: 0.9961 - precision: 0.9963 - recall: 0.9959 - val_loss: 0.0458 - val_accuracy: 0.9857 - val_precision: 0.9869 - val_recall: 0.9852\n",
      "Epoch 13/50\n",
      "938/938 [==============================] - 25s 27ms/step - loss: 0.0113 - accuracy: 0.9966 - precision: 0.9968 - recall: 0.9963 - val_loss: 0.0521 - val_accuracy: 0.9852 - val_precision: 0.9859 - val_recall: 0.9846\n",
      "Epoch 14/50\n",
      "938/938 [==============================] - 26s 27ms/step - loss: 0.0089 - accuracy: 0.9970 - precision: 0.9973 - recall: 0.9969 - val_loss: 0.0485 - val_accuracy: 0.9857 - val_precision: 0.9869 - val_recall: 0.9855\n",
      "Epoch 15/50\n",
      "938/938 [==============================] - 27s 28ms/step - loss: 0.0102 - accuracy: 0.9964 - precision: 0.9967 - recall: 0.9963 - val_loss: 0.0476 - val_accuracy: 0.9871 - val_precision: 0.9875 - val_recall: 0.9868\n",
      "Epoch 16/50\n",
      "938/938 [==============================] - 26s 28ms/step - loss: 0.0075 - accuracy: 0.9976 - precision: 0.9977 - recall: 0.9975 - val_loss: 0.0516 - val_accuracy: 0.9846 - val_precision: 0.9857 - val_recall: 0.9843\n",
      "Epoch 17/50\n",
      "938/938 [==============================] - 25s 26ms/step - loss: 0.0075 - accuracy: 0.9978 - precision: 0.9979 - recall: 0.9977 - val_loss: 0.0525 - val_accuracy: 0.9864 - val_precision: 0.9875 - val_recall: 0.9859\n"
     ]
    }
   ],
   "source": [
    "model.compile(optimizer='adam', loss=\"categorical_crossentropy\", metrics=['accuracy',tf.keras.metrics.Precision(),tf.keras.metrics.Recall()])\n",
    "history = model.fit(X_train, y_train, batch_size=64, epochs=50, validation_data=(X_test, y_test),callbacks = [early_stopping])"
   ]
  },
  {
   "cell_type": "code",
   "execution_count": 22,
   "id": "237d10fa",
   "metadata": {
    "execution": {
     "iopub.execute_input": "2023-04-06T03:16:14.462960Z",
     "iopub.status.busy": "2023-04-06T03:16:14.462465Z",
     "iopub.status.idle": "2023-04-06T03:16:14.928961Z",
     "shell.execute_reply": "2023-04-06T03:16:14.927503Z",
     "shell.execute_reply.started": "2023-04-06T03:16:14.462914Z"
    },
    "papermill": {
     "duration": 3.317033,
     "end_time": "2023-04-04T13:05:43.019608",
     "exception": false,
     "start_time": "2023-04-04T13:05:39.702575",
     "status": "completed"
    },
    "tags": []
   },
   "outputs": [
    {
     "data": {
      "image/png": "[encoded data removed]",
      "text/plain": [
       "<Figure size 640x480 with 1 Axes>"
      ]
     },
     "metadata": {},
     "output_type": "display_data"
    },
    {
     "data": {
      "image/png": "[encoded data removed]",
      "text/plain": [
       "<Figure size 640x480 with 1 Axes>"
      ]
     },
     "metadata": {},
     "output_type": "display_data"
    },
    {
     "data": {
      "image/png": "[encoded data removed]",
      "text/plain": [
       "<Figure size 640x480 with 1 Axes>"
      ]
     },
     "metadata": {},
     "output_type": "display_data"
    }
   ],
   "source": [
    "plt.plot(history.history['accuracy'])\n",
    "plt.plot(history.history['val_accuracy'])\n",
    "plt.title('Accuracy vs Epochs')\n",
    "plt.xlabel('Epochs')\n",
    "plt.ylabel('Accuracy')\n",
    "plt.legend(['Train', 'TEST'], loc = 'lower right')\n",
    "plt.show()\n",
    "\n",
    "\n",
    "plt.plot(history.history['precision'])\n",
    "plt.plot(history.history['val_precision'])\n",
    "plt.title('Precision vs Epochs')\n",
    "plt.xlabel('Epochs')\n",
    "plt.ylabel('Precision')\n",
    "plt.legend(['Train', 'TEST'], loc = 'lower right')\n",
    "plt.show()\n",
    "\n",
    "\n",
    "plt.plot(history.history['recall'])\n",
    "plt.plot(history.history['val_recall'])\n",
    "plt.title('Recall vs Epochs')\n",
    "plt.xlabel('Epochs')\n",
    "plt.ylabel('Recall')\n",
    "plt.legend(['Train', 'TEST'], loc = 'lower right')\n",
    "plt.show()"
   ]
  },
  {
   "cell_type": "code",
   "execution_count": 23,
   "id": "e34394af",
   "metadata": {
    "execution": {
     "iopub.execute_input": "2023-04-06T03:16:14.932583Z",
     "iopub.status.busy": "2023-04-06T03:16:14.931612Z",
     "iopub.status.idle": "2023-04-06T03:16:14.937084Z",
     "shell.execute_reply": "2023-04-06T03:16:14.935852Z",
     "shell.execute_reply.started": "2023-04-06T03:16:14.932535Z"
    },
    "papermill": {
     "duration": 0.086544,
     "end_time": "2023-04-04T13:05:43.184104",
     "exception": false,
     "start_time": "2023-04-04T13:05:43.097560",
     "status": "completed"
    },
    "tags": []
   },
   "outputs": [],
   "source": [
    "import numpy as np"
   ]
  },
  {
   "cell_type": "code",
   "execution_count": 24,
   "id": "4d41305c",
   "metadata": {
    "execution": {
     "iopub.execute_input": "2023-04-06T03:16:14.939302Z",
     "iopub.status.busy": "2023-04-06T03:16:14.938885Z",
     "iopub.status.idle": "2023-04-06T03:16:16.984695Z",
     "shell.execute_reply": "2023-04-06T03:16:16.983775Z",
     "shell.execute_reply.started": "2023-04-06T03:16:14.939261Z"
    },
    "papermill": {
     "duration": 1.029795,
     "end_time": "2023-04-04T13:05:44.291471",
     "exception": false,
     "start_time": "2023-04-04T13:05:43.261676",
     "status": "completed"
    },
    "tags": []
   },
   "outputs": [
    {
     "name": "stdout",
     "output_type": "stream",
     "text": [
      "313/313 [==============================] - 3s 7ms/step\n"
     ]
    }
   ],
   "source": [
    "pred = model.predict(X_test)\n",
    "pred = np.argmax(pred,axis = 1) \n",
    "true = np.argmax(y_test,axis = 1) "
   ]
  },
  {
   "cell_type": "markdown",
   "id": "acc4a165",
   "metadata": {
    "papermill": {
     "duration": 0.076068,
     "end_time": "2023-04-04T13:05:44.445630",
     "exception": false,
     "start_time": "2023-04-04T13:05:44.369562",
     "status": "completed"
    },
    "tags": []
   },
   "source": [
    "### Confusion Matrix"
   ]
  },
  {
   "cell_type": "code",
   "execution_count": 25,
   "id": "574c6cf9",
   "metadata": {
    "execution": {
     "iopub.execute_input": "2023-04-06T03:16:16.986776Z",
     "iopub.status.busy": "2023-04-06T03:16:16.986246Z",
     "iopub.status.idle": "2023-04-06T03:16:18.244033Z",
     "shell.execute_reply": "2023-04-06T03:16:18.242845Z",
     "shell.execute_reply.started": "2023-04-06T03:16:16.986728Z"
    },
    "papermill": {
     "duration": 1.768002,
     "end_time": "2023-04-04T13:05:46.289741",
     "exception": false,
     "start_time": "2023-04-04T13:05:44.521739",
     "status": "completed"
    },
    "tags": []
   },
   "outputs": [
    {
     "data": {
      "image/png": "[encoded data removed]",
      "text/plain": [
       "<Figure size 1500x1000 with 2 Axes>"
      ]
     },
     "metadata": {},
     "output_type": "display_data"
    }
   ],
   "source": [
    "from sklearn.metrics import confusion_matrix\n",
    "import seaborn as sns\n",
    "\n",
    "cm = confusion_matrix(true, pred) \n",
    "f,ax = plt.subplots(figsize=(15, 10))\n",
    "sns.heatmap(cm, annot=True, linewidths=0.01, fmt= '.1f',ax=ax)\n",
    "plt.xlabel(\"Predicted Label\")\n",
    "plt.ylabel(\"True Label\")\n",
    "plt.title(\"Confusion Matrix\")\n",
    "plt.show()"
   ]
  },
  {
   "cell_type": "markdown",
   "id": "dc85e38f",
   "metadata": {
    "papermill": {
     "duration": 0.077068,
     "end_time": "2023-04-04T13:05:46.449616",
     "exception": false,
     "start_time": "2023-04-04T13:05:46.372548",
     "status": "completed"
    },
    "tags": []
   },
   "source": [
    "### Classification Report"
   ]
  },
  {
   "cell_type": "code",
   "execution_count": 26,
   "id": "ef2720ea",
   "metadata": {
    "execution": {
     "iopub.execute_input": "2023-04-06T03:16:18.246342Z",
     "iopub.status.busy": "2023-04-06T03:16:18.245596Z",
     "iopub.status.idle": "2023-04-06T03:16:18.252137Z",
     "shell.execute_reply": "2023-04-06T03:16:18.250564Z",
     "shell.execute_reply.started": "2023-04-06T03:16:18.246294Z"
    },
    "papermill": {
     "duration": 0.087238,
     "end_time": "2023-04-04T13:05:46.615243",
     "exception": false,
     "start_time": "2023-04-04T13:05:46.528005",
     "status": "completed"
    },
    "tags": []
   },
   "outputs": [],
   "source": [
    "from sklearn.metrics import classification_report"
   ]
  },
  {
   "cell_type": "code",
   "execution_count": 27,
   "id": "edc9ed66",
   "metadata": {
    "execution": {
     "iopub.execute_input": "2023-04-06T03:19:38.086440Z",
     "iopub.status.busy": "2023-04-06T03:19:38.085376Z",
     "iopub.status.idle": "2023-04-06T03:19:38.117919Z",
     "shell.execute_reply": "2023-04-06T03:19:38.116656Z",
     "shell.execute_reply.started": "2023-04-06T03:19:38.086396Z"
    },
    "papermill": {
     "duration": 0.107015,
     "end_time": "2023-04-04T13:05:46.799838",
     "exception": false,
     "start_time": "2023-04-04T13:05:46.692823",
     "status": "completed"
    },
    "tags": []
   },
   "outputs": [
    {
     "name": "stdout",
     "output_type": "stream",
     "text": [
      "              precision    recall  f1-score   support\n",
      "\n",
      "           0    0.98683   0.99388   0.99034       980\n",
      "           1    0.99206   0.99119   0.99163      1135\n",
      "           2    0.99029   0.98837   0.98933      1032\n",
      "           3    0.98232   0.99010   0.98619      1010\n",
      "           4    0.99080   0.98676   0.98878       982\n",
      "           5    0.98107   0.98767   0.98436       892\n",
      "           6    0.98842   0.98017   0.98428       958\n",
      "           7    0.97887   0.99125   0.98502      1028\n",
      "           8    0.98560   0.98357   0.98458       974\n",
      "           9    0.98690   0.97027   0.97851      1009\n",
      "\n",
      "    accuracy                        0.98640     10000\n",
      "   macro avg    0.98631   0.98632   0.98630     10000\n",
      "weighted avg    0.98642   0.98640   0.98639     10000\n",
      "\n"
     ]
    }
   ],
   "source": [
    "print(classification_report(true, pred,digits= 5))"
   ]
  },
  {
   "cell_type": "code",
   "execution_count": null,
   "id": "b6135f4b",
   "metadata": {
    "papermill": {
     "duration": 0.079071,
     "end_time": "2023-04-04T13:05:46.966849",
     "exception": false,
     "start_time": "2023-04-04T13:05:46.887778",
     "status": "completed"
    },
    "tags": []
   },
   "outputs": [],
   "source": []
  }
 ],
 "metadata": {
  "kernelspec": {
   "display_name": "Python 3 (ipykernel)",
   "language": "python",
   "name": "python3"
  },
  "language_info": {
   "codemirror_mode": {
    "name": "ipython",
    "version": 3
   },
   "file_extension": ".py",
   "mimetype": "text/x-python",
   "name": "python",
   "nbconvert_exporter": "python",
   "pygments_lexer": "ipython3",
   "version": "3.11.2"
  },
  "papermill": {
   "default_parameters": {},
   "duration": 118.85976,
   "end_time": "2023-04-04T13:05:50.148579",
   "environment_variables": {},
   "exception": null,
   "input_path": "__notebook__.ipynb",
   "output_path": "__notebook__.ipynb",
   "parameters": {},
   "start_time": "2023-04-04T13:03:51.288819",
   "version": "2.4.0"
  }
 },
 "nbformat": 4,
 "nbformat_minor": 5
}
